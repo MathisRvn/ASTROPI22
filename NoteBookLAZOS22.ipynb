{
 "cells": [
  {
   "cell_type": "markdown",
   "id": "2778ddc6-8e1e-46b0-a7cc-79f78aaac8c9",
   "metadata": {},
   "source": [
    "# ASTROPI22 - LAZOS22 - Phase 4 : analysis - Notebook"
   ]
  },
  {
   "cell_type": "markdown",
   "id": "70936aa3-589f-4ab1-8196-3171dd114ee1",
   "metadata": {},
   "source": [
    "# Importing libs"
   ]
  },
  {
   "cell_type": "code",
   "execution_count": 1,
   "id": "3891036c-461a-4f4b-9d32-760dead9a1e7",
   "metadata": {},
   "outputs": [],
   "source": [
    "import matplotlib.pyplot as plt\n",
    "import numpy as np\n",
    "import datetime\n",
    "import csv\n",
    "from math import pi, sin, sqrt\n",
    "import cmath"
   ]
  },
  {
   "cell_type": "markdown",
   "id": "d3d699ec-f136-49e4-ab85-89ccf620545f",
   "metadata": {},
   "source": [
    "# Import data from the csv file"
   ]
  },
  {
   "cell_type": "code",
   "execution_count": 2,
   "id": "75f08248-f1c0-441a-893e-a6333217de7e",
   "metadata": {},
   "outputs": [],
   "source": [
    "date = []\n",
    "lat = []\n",
    "lon = []\n",
    "xstrength = []\n",
    "ystrength = []\n",
    "zstrength = []\n",
    "lum = []\n",
    "\n",
    "with open('./data.csv', newline='') as csvfile:\n",
    "    spamreader = csv.reader(csvfile, delimiter=',', quotechar='|')\n",
    "    for row in spamreader:\n",
    "        try:\n",
    "            date.append(datetime.datetime.strptime(row[0], \"%Y-%m-%d %H:%M:%S.%f\"))\n",
    "            lat.append(float(row[1]))\n",
    "            lon.append(float(row[2]))\n",
    "            xstrength.append(float(row[3]))\n",
    "            ystrength.append(float(row[4]))\n",
    "            zstrength.append(float(row[5]))\n",
    "            lum.append(int(row[6]))\n",
    "        except:\n",
    "            pass\n",
    "        \n",
    "date = np.array(date)\n",
    "lat = np.array(lat)\n",
    "lon = np.array(lon)\n",
    "xstrength = np.array(xstrength)\n",
    "ystrength = np.array(ystrength)\n",
    "zstrength = np.array(zstrength)"
   ]
  },
  {
   "cell_type": "markdown",
   "id": "fcb2c668-1326-453a-bc18-7df182db6770",
   "metadata": {
    "tags": []
   },
   "source": [
    "# Calculating full magnetic strength"
   ]
  },
  {
   "cell_type": "markdown",
   "id": "d1c829b9-56e4-495f-941b-2286a8c509b1",
   "metadata": {},
   "source": [
    "$V = \\sqrt{V_x^2 + V_y^2 + V_z^2}$ with $V$ the total strength, $V_x$ the strength on the x-axis, and so with $V_y$ and $V_z$"
   ]
  },
  {
   "cell_type": "code",
   "execution_count": 3,
   "id": "2ee266e9-50e0-4650-850b-b3e1e684ae5a",
   "metadata": {},
   "outputs": [
    {
     "data": {
      "image/png": "[encoded data removed]",
      "text/plain": [
       "<Figure size 432x288 with 1 Axes>"
      ]
     },
     "metadata": {
      "needs_background": "light"
     },
     "output_type": "display_data"
    }
   ],
   "source": [
    "total_strength = np.sqrt(xstrength**2 + ystrength**2 + zstrength**2)\n",
    "plt.scatter(date, total_strength, s=1)\n",
    "plt.show()"
   ]
  },
  {
   "cell_type": "markdown",
   "id": "d29df760-9487-4555-a446-01dcc1ed6c2a",
   "metadata": {},
   "source": [
    "# Day-Night Cycle"
   ]
  },
  {
   "cell_type": "markdown",
   "id": "2dc7bd9c-75e2-4be1-89b3-36bde37e2640",
   "metadata": {},
   "source": [
    "### Calculating the day night function parameters"
   ]
  },
  {
   "cell_type": "markdown",
   "id": "757de456-1c53-4a53-af01-96bfd5ab4fcc",
   "metadata": {},
   "source": [
    "We can modelize the day/night cycle. It is a function $f(t) = \\sin(\\omega t + \\phi )$. This function is positive when it is day, and negative when it is night. Moreover, we know that at the beginning it is day, and it switch to night at $t_{s_0}$, then from night to day at $t_{s_1}$ and so on with $t_{s_2}$ and $t_{s_3}$. We have a period $T=t_{s_2}-t_{s_0}$. So $\\omega = \\frac{2 \\pi}{T}$. Moreover, we know that at $t_{s_1}$, we pass to day, so $\\omega  \\cdot t_{s_1} + \\phi \\equiv 2 \\pi \\equiv 0 \\pmod{2 \\pi}$. Therefore, we can assume that $\\phi = - \\omega \\cdot t_{s_1}$.\n",
    "\n",
    "We have : $f(t) = \\sin{\\left( \\omega \\cdot ( t - t_{s_1} ) \\right) }$"
   ]
  },
  {
   "cell_type": "code",
   "execution_count": 4,
   "id": "6715eb75-4b17-41a8-ab1d-c13778f9c0af",
   "metadata": {},
   "outputs": [
    {
     "name": "stdout",
     "output_type": "stream",
     "text": [
      "Period of a total day/night cycle :  5579.0 seconds\n"
     ]
    }
   ],
   "source": [
    "# Points where it passes from night to day or day to night. Knowing that it is day at the beginning\n",
    "times_sun_change = ['2022-04-18 01:28:08', '2022-04-18 02:13:20', '2022-04-18 03:01:30', '2022-04-18 03:45:56']\n",
    "times_sun_change_ = [datetime.datetime.strptime(t, \"%Y-%m-%d %H:%M:%S\") for t in times_sun_change] # t_{s_i}\n",
    "\n",
    "# Calculating the period by meaning multiple values\n",
    "period = 0\n",
    "for i in range(0, len(times_sun_change_)-2):\n",
    "    period += (times_sun_change_[i+2] - times_sun_change_[i]).total_seconds()\n",
    "period /= (len(times_sun_change_)-2)\n",
    "print(\"Period of a total day/night cycle : \", period, \"seconds\")\n",
    "\n",
    "frequency = 2 * pi / period\n",
    "\n",
    "day_night_cycle_values =  [sin(frequency * (t - times_sun_change_[1]).total_seconds()) for t in date]"
   ]
  },
  {
   "cell_type": "markdown",
   "id": "3c3acd97-19e5-4753-a86f-cbd5c3c36c89",
   "metadata": {},
   "source": [
    "### Comparison of the period with the theoritcal value"
   ]
  },
  {
   "cell_type": "markdown",
   "id": "2e8b999c-f103-4c53-b921-4347f8ecbe2e",
   "metadata": {},
   "source": [
    "Relative gap $u$. Let $V$ be the experimental value and $V_{th}$ be the experimental one.\n",
    "\n",
    "$u = \\frac{|V_{th}-V|}{V_{th}}$"
   ]
  },
  {
   "cell_type": "code",
   "execution_count": 5,
   "id": "fb4e6cdc-f991-47cc-9048-b599f4cc5f2d",
   "metadata": {},
   "outputs": [
    {
     "name": "stdout",
     "output_type": "stream",
     "text": [
      "relative gap :  0.327 %\n"
     ]
    }
   ],
   "source": [
    "period_th = 92.68*60\n",
    "print(\"relative gap : \", round(100 * (period - period_th)/period_th, 3), \"%\")"
   ]
  },
  {
   "cell_type": "markdown",
   "id": "5090623f-f40e-4b3c-8808-e21d8d5ce4e6",
   "metadata": {},
   "source": [
    "### Plotting the day night cycle"
   ]
  },
  {
   "cell_type": "code",
   "execution_count": 6,
   "id": "8dd61263-d276-4b9e-8152-f3260db43af1",
   "metadata": {},
   "outputs": [
    {
     "data": {
      "image/png": "[encoded data removed]",
      "text/plain": [
       "<Figure size 432x288 with 2 Axes>"
      ]
     },
     "metadata": {
      "needs_background": "light"
     },
     "output_type": "display_data"
    }
   ],
   "source": [
    "fig, ax1 = plt.subplots()\n",
    "\n",
    "time_delta = [(date[i] - date[0]).total_seconds()/60 for i in range(0, len(date))] # Time passed in minutes\n",
    "\n",
    "ax1.plot(time_delta, total_strength, label=\"Magnetic field intensity\")\n",
    "ax1.set_xlabel('Time (minutes)')\n",
    "ax1.set_ylabel('Magnetic field strength')\n",
    "\n",
    "ax2 = ax1.twinx()\n",
    "ax2.plot(time_delta, day_night_cycle_values, color='orange', label=\"Day-night cycle\")\n",
    "ax2.set_ylabel('f(t) value (day-night cycle)')\n",
    "\n",
    "ax1.legend()\n",
    "ax2.legend()\n",
    "\n",
    "# plt.show()\n",
    "plt.savefig(\"daynightcycle.jpg\", dpi=300, bbox_inches='tight')"
   ]
  },
  {
   "cell_type": "markdown",
   "id": "bd407398-7672-4469-8579-cdcab87a8df4",
   "metadata": {},
   "source": [
    "# Doing a fourier transform"
   ]
  },
  {
   "cell_type": "code",
   "execution_count": 7,
   "id": "04095e57-0c10-49c3-aa7d-cfe5e0e4c54f",
   "metadata": {},
   "outputs": [
    {
     "data": {
      "image/png": "[encoded data removed]",
      "text/plain": [
       "<Figure size 432x288 with 1 Axes>"
      ]
     },
     "metadata": {
      "needs_background": "light"
     },
     "output_type": "display_data"
    }
   ],
   "source": [
    "# We center the data to make the fourier tranform easier\n",
    "total_strength_centered = total_strength - np.mean(total_strength)\n",
    "times_seconds = [(date[i] - date[0]).total_seconds() for i in range(0, len(date))]\n",
    "\n",
    "plt.plot(times_seconds, total_strength_centered)\n",
    "plt.ylabel('Amplitude')\n",
    "plt.xlabel('Time (s)')\n",
    "plt.show()"
   ]
  },
  {
   "cell_type": "markdown",
   "id": "f52e466d-a992-47c4-a098-622cf61184bc",
   "metadata": {},
   "source": [
    "Let $A$ be the set of the magnetic field strength. $A_i$ be the data at a certain point. And $t_i$ the time where this data as been captured.\n",
    "\n",
    "Let $v(\\omega)$ be the fast fourier function value in function of the frequency \n",
    "\n",
    "$\\hat{g}(\\omega) = \\frac{1}{|A|} \\cdot \\displaystyle\\sum_{i=1}^{|A|} A_i \\cdot e^{2 \\cdot \\pi \\cdot i \\cdot \\omega \\cdot t_i}$"
   ]
  },
  {
   "cell_type": "code",
   "execution_count": 8,
   "id": "fe537393-2a31-408a-964a-a26d9feda9b0",
   "metadata": {},
   "outputs": [],
   "source": [
    "# Fast Transform function\n",
    "def fourier (freq, x, date):\n",
    "\n",
    "    s = 0\n",
    "\n",
    "    for k in range(0, len(x)):\n",
    "        dt = (date[k] - date[0])\n",
    "        v = (x[k] * cmath.exp(2 * pi * 1j * freq * dt))\n",
    "        s+=v\n",
    "        \n",
    "    s/=len(x)\n",
    "    return (s.real, s.imag)"
   ]
  },
  {
   "cell_type": "code",
   "execution_count": null,
   "id": "2b4b6fa6-9c9d-4047-9c20-53a33488d28c",
   "metadata": {},
   "outputs": [],
   "source": [
    "# /!\\ This cell can take a bit of time to run\n",
    "\n",
    "# Checking with different frequencies\n",
    "periods = np.linspace(10, 178, 2000) # in minutes\n",
    "frequencies = 1/(60*periods)\n",
    "a = []\n",
    "b = []\n",
    "for fr in frequencies:\n",
    "    re, im = fourier(fr, total_strength_centered, times_seconds)\n",
    "    a.append(re)\n",
    "    b.append(im)"
   ]
  },
  {
   "cell_type": "code",
   "execution_count": null,
   "id": "7ecfcbb7-ffea-48fe-beb5-e190f421d180",
   "metadata": {},
   "outputs": [],
   "source": [
    "plt.scatter(1/(60*frequencies), a, s=1) # Let's put on the X axis the period checked (simplier than frequency, beause it is very small frequency that we are looking for.\n",
    "plt.plot([(92), (92)], [min(a), max(a)], c=\"orange\") # Let's do a mark at the frequency of the ISS around the earth.\n",
    "plt.xlabel(\"Period (minutes)\")\n",
    "plt.ylabel(\"Fourier Transform value (real part)\")\n",
    "\n",
    "# plt.show()\n",
    "plt.savefig(\"fft_real.jpg\", dpi=300, bbox_inches='tight')\n",
    "plt.show()\n",
    "\n",
    "plt.scatter(1/(60*frequencies), b, s=1) # Let's put on the X axis the period checked (simplier than frequency, beause it is very small frequency that we are looking for.\n",
    "plt.plot([(92), (92)], [min(b), max(b)], c=\"orange\") # Let's do a mark at the frequency of the ISS around the earth.\n",
    "plt.xlabel(\"Period (minutes)\")\n",
    "plt.ylabel(\"Fourier Transform value (imaginary part)\")\n",
    "\n",
    "# plt.show()\n",
    "plt.savefig(\"fft_imag.jpg\", dpi=300, bbox_inches='tight')"
   ]
  },
  {
   "cell_type": "markdown",
   "id": "32298b15-c23f-4858-9400-362056094d33",
   "metadata": {},
   "source": [
    "# Plotting on a map"
   ]
  },
  {
   "cell_type": "code",
   "execution_count": null,
   "id": "e4590270-0b5b-4516-9736-8693add9a5e4",
   "metadata": {},
   "outputs": [],
   "source": [
    "from mpl_toolkits.basemap import Basemap\n",
    "\n",
    "\n",
    "# miller projection\n",
    "map = Basemap(projection='mill', lon_0=0)\n",
    "map.drawcoastlines()\n",
    "map.drawparallels(np.arange(-90,90,30),labels=[1,0,0,0])\n",
    "\n",
    "# fill continents 'coral' (with zorder=0), color wet areas 'aqua'\n",
    "map.fillcontinents(color='grey')\n",
    "\n",
    "# Plotting the night zone at the middle of the expriment\n",
    "CS=map.nightshade(date[int(len(date)/2)])\n",
    "\n",
    "lon_, lat_ = map(lon, lat)\n",
    "\n",
    "plt.scatter(lon_, lat_, s=1, c=total_strength, cmap=\"rainbow\")\n",
    "cbar = plt.colorbar(extend=\"both\")\n",
    "cbar.set_label(label=\"magnetic field strength\")\n",
    "\n",
    "# plt.show()\n",
    "plt.savefig(\"map.jpg\", dpi=300, bbox_inches='tight')"
   ]
  },
  {
   "cell_type": "markdown",
   "id": "83531d1d-4b48-4929-9b95-873d08a1bdfb",
   "metadata": {},
   "source": [
    "# 3D representation with the ecliptic axis"
   ]
  },
  {
   "cell_type": "markdown",
   "id": "f1ada655-506a-427c-98ae-71f22c5c8fb2",
   "metadata": {},
   "source": [
    "In a static polar coordinates system :\n",
    "\n",
    "$\\theta=longitude$\n",
    "\n",
    "$\\phi=90-latitude$\n",
    "\n",
    "$r$ is the distance between the center of the earth and point.\n",
    "\n",
    "We are tying here to get the cartesian coordinates\n",
    "\n",
    "By using simple trigonometry formulas we find :\n",
    "\\begin{cases}\n",
    "x = r \\cdot \\sin{\\phi} \\cdot \\cos{\\theta}\\\\\n",
    "y = r \\cdot \\sin{\\phi} \\cdot \\sin{\\theta}\\\\\n",
    "z = r \\cdot \\cos{\\phi}\\\\\n",
    "\\end{cases}"
   ]
  },
  {
   "cell_type": "code",
   "execution_count": null,
   "id": "08aa2019-972f-4843-bee5-3f186f60ac85",
   "metadata": {},
   "outputs": [],
   "source": [
    "fig = plt.figure()\n",
    "ax = plt.axes(projection='3d')\n",
    "\n",
    "# Magnetic field captured\n",
    "\n",
    "phi = (90-lat)*pi/180\n",
    "thetha = np.array([lon[i] + (360 * times_seconds[i])/(86164.094) for i in range(0, len(xstrength))])*pi/180 # The target is here to oppose the rotation of the earth, as we need a static coordinate system\n",
    "\n",
    "r = 6371000 # earth radius (m)\n",
    "x = (r+375000) * np.sin(phi) * np.cos(thetha) # 375000m is the meaned altitude with the surface of earth\n",
    "y = (r+375000) * np.sin(phi) * np.sin(thetha)\n",
    "z = (r+375000) * np.cos(phi)\n",
    "\n",
    "p = ax.scatter(x, y, z, s=1, c=total_strength, cmap=\"rainbow\")\n",
    "fig.colorbar(p, ax=ax)\n",
    "\n",
    "# Sphere\n",
    "\n",
    "u = np.linspace(0, 2 * np.pi, 100)\n",
    "v = np.linspace(0, np.pi, 100)\n",
    "\n",
    "x_sphere = 1 * np.outer(np.cos(u), np.sin(v))\n",
    "y_sphere = 1 * np.outer(np.sin(u), np.sin(v))\n",
    "z_sphere = 1 * np.outer(np.ones(np.size(u)), np.cos(v))\n",
    "\n",
    "ax.plot_surface(r*x_sphere, r*y_sphere, r*z_sphere,  rstride=4, cstride=4, color='b', linewidth=0, alpha=0.2)\n",
    "\n",
    "# Equatorial line\n",
    "\n",
    "x_equatorial = r * np.cos(np.linspace(0, 2*pi, 100))\n",
    "y_equatorial = r * np.sin(np.linspace(0, 2*pi, 100))\n",
    "z_equatorial = np.linspace(0, 0, 100)\n",
    "\n",
    "ax.plot(x_equatorial, y_equatorial, z_equatorial, color=\"black\", label=\"equatorial line\")\n",
    "\n",
    "# Earth rotation axis\n",
    "\n",
    "ax.plot([0, 0], [0, 0], [r, -r], color=\"red\", label=\"Axe of rotation of earth\")\n",
    "\n",
    "# Normal to the ecliptic plane\n",
    "\n",
    "theta_ecliptic = (172/365)*2*pi\n",
    "phi_ecliptic = -23*pi/180\n",
    "\n",
    "ax.plot(\n",
    "    [r * np.sin(phi_ecliptic) * np.cos(theta_ecliptic), -r * np.sin(phi_ecliptic) * np.cos(theta_ecliptic)], \n",
    "    [r * np.sin(phi_ecliptic) * np.sin(theta_ecliptic), -r * np.sin(phi_ecliptic) * np.sin(theta_ecliptic)], \n",
    "    [r*np.cos(phi_ecliptic), -r * np.cos(phi_ecliptic)], color=\"orange\", label=\"Axe perpendicular to the ecliptic plane\")\n",
    "\n",
    "ax.set_axis_off()\n",
    "ax.legend()\n",
    "plt.show()"
   ]
  },
  {
   "cell_type": "markdown",
   "id": "96f4355a-4248-48b6-96b3-a71c03312fc2",
   "metadata": {},
   "source": [
    "# Checking the difference between the two orbit around earth"
   ]
  },
  {
   "cell_type": "code",
   "execution_count": null,
   "id": "4b8bc7f9-a5cd-4c2d-b4a0-6ee183b9d7ae",
   "metadata": {},
   "outputs": [],
   "source": [
    "print(period/60)\n",
    "print(((date[-1]-date[0]).total_seconds()/60)%(period/60))\n",
    "\n",
    "round1_x=[]\n",
    "round1_y=[]\n",
    "\n",
    "round2_x=[]\n",
    "round2_y=[]\n",
    "\n",
    "for i in range(0, len(total_strength)):\n",
    "    if (date[i] - date[0]).total_seconds() <= period:\n",
    "        round1_x.append((date[i] - date[0]).total_seconds()/60)\n",
    "        round1_y.append(total_strength[i])\n",
    "    else:\n",
    "        round2_x.append(((date[i] - date[0]).total_seconds()-period)/60)\n",
    "        round2_y.append(total_strength[i])\n",
    "        \n",
    "plt.plot(round1_x, round1_y, label=\"Round 1\")\n",
    "plt.plot(round2_x, round2_y, label=\"Round 2\")\n",
    "plt.xlabel(\"Time (minutes)\")\n",
    "plt.ylabel(\"Magntic strength\")\n",
    "plt.show()\n",
    "\n",
    "delta = np.array(round1_y[0:len(round2_y)]) - np.array(round2_y)\n",
    "plt.plot(round2_x, delta)\n",
    "plt.xlabel(\"Time (minutes)\")\n",
    "plt.ylabel(\"Magntic strength delta\")\n",
    "# plt.show()\n",
    "plt.savefig(\"delta.jpg\", dpi=300, bbox_inches='tight')"
   ]
  }
 ],
 "metadata": {
  "kernelspec": {
   "display_name": "Python 3 (ipykernel)",
   "language": "python",
   "name": "python3"
  },
  "language_info": {
   "codemirror_mode": {
    "name": "ipython",
    "version": 3
   },
   "file_extension": ".py",
   "mimetype": "text/x-python",
   "name": "python",
   "nbconvert_exporter": "python",
   "pygments_lexer": "ipython3",
   "version": "3.10.4"
  }
 },
 "nbformat": 4,
 "nbformat_minor": 5
}
